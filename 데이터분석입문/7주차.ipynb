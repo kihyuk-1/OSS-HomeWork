{
 "cells": [
  {
   "cell_type": "markdown",
   "metadata": {},
   "source": [
    "#  한글 처리"
   ]
  },
  {
   "cell_type": "code",
   "execution_count": null,
   "metadata": {},
   "outputs": [],
   "source": [
    "pip install numpy\n",
    "pip install matplotlib"
   ]
  },
  {
   "cell_type": "code",
   "execution_count": null,
   "metadata": {},
   "outputs": [
    {
     "ename": "",
     "evalue": "",
     "output_type": "error",
     "traceback": [
      "\u001b[1;31mRunning cells with 'Python 3.12.4' requires the ipykernel package.\n",
      "\u001b[1;31mRun the following command to install 'ipykernel' into the Python environment. \n",
      "\u001b[1;31mCommand: 'c:/Users/109-1/AppData/Local/Programs/Python/Python312/python.exe -m pip install ipykernel -U --user --force-reinstall'"
     ]
    }
   ],
   "source": [
    "import numpy as np\n",
    "import matplotlib as mpl\n"
   ]
  },
  {
   "cell_type": "code",
   "execution_count": null,
   "metadata": {},
   "outputs": [
    {
     "ename": "",
     "evalue": "",
     "output_type": "error",
     "traceback": [
      "\u001b[1;31mRunning cells with 'Python 3.12.4' requires the ipykernel package.\n",
      "\u001b[1;31mRun the following command to install 'ipykernel' into the Python environment. \n",
      "\u001b[1;31mCommand: 'c:/Users/109-1/AppData/Local/Programs/Python/Python312/python.exe -m pip install ipykernel -U --user --force-reinstall'"
     ]
    }
   ],
   "source": [
    "%config InlineBackend.figure_format = 'retina'"
   ]
  },
  {
   "cell_type": "code",
   "execution_count": null,
   "metadata": {},
   "outputs": [
    {
     "ename": "",
     "evalue": "",
     "output_type": "error",
     "traceback": [
      "\u001b[1;31mRunning cells with 'Python 3.12.4' requires the ipykernel package.\n",
      "\u001b[1;31mRun the following command to install 'ipykernel' into the Python environment. \n",
      "\u001b[1;31mCommand: 'c:/Users/109-1/AppData/Local/Programs/Python/Python312/python.exe -m pip install ipykernel -U --user --force-reinstall'"
     ]
    }
   ],
   "source": [
    "import matplotlib.pyplot as plt\n",
    "\n",
    "plt.rc('font' , family='Malgun Gothic')\n",
    "plt.rc('axes' , unicode_minus=False)\n",
    "\n",
    "plt.rcParams['font.family'] = 'Malgun Gothic'\n",
    "plt.rcParams['axes.unicode_minus'] = False"
   ]
  },
  {
   "cell_type": "markdown",
   "metadata": {},
   "source": [
    "# 간단한 직선 그래프 그리기"
   ]
  },
  {
   "cell_type": "code",
   "execution_count": null,
   "metadata": {},
   "outputs": [
    {
     "ename": "",
     "evalue": "",
     "output_type": "error",
     "traceback": [
      "\u001b[1;31mRunning cells with 'Python 3.12.4' requires the ipykernel package.\n",
      "\u001b[1;31mRun the following command to install 'ipykernel' into the Python environment. \n",
      "\u001b[1;31mCommand: 'c:/Users/109-1/AppData/Local/Programs/Python/Python312/python.exe -m pip install ipykernel -U --user --force-reinstall'"
     ]
    }
   ],
   "source": [
    "import matplotlib.pyplot as plt\n",
    "\n",
    "plt.rcParams['font.family'] = 'Malgun Gothic'\n",
    "plt.rcParams['axes.unicode_minus'] = False\n",
    "\n",
    "\n",
    "plt.plot([1,3,5,7,9] , [8,6,17,22,3])\n",
    "plt.title('직선 그래프 그리기')\n",
    "plt.show()"
   ]
  },
  {
   "cell_type": "markdown",
   "metadata": {},
   "source": [
    "# 그래프 여러 속성"
   ]
  },
  {
   "cell_type": "code",
   "execution_count": null,
   "metadata": {},
   "outputs": [
    {
     "ename": "",
     "evalue": "",
     "output_type": "error",
     "traceback": [
      "\u001b[1;31mRunning cells with 'Python 3.12.4' requires the ipykernel package.\n",
      "\u001b[1;31mRun the following command to install 'ipykernel' into the Python environment. \n",
      "\u001b[1;31mCommand: 'c:/Users/109-1/AppData/Local/Programs/Python/Python312/python.exe -m pip install ipykernel -U --user --force-reinstall'"
     ]
    }
   ],
   "source": [
    "import matplotlib.pyplot as plt\n",
    "\n",
    "\n",
    "# 데이터 생성\n",
    "x = [1,2,3,4,5]\n",
    "y = [2,3,5,7,11]\n",
    "\n",
    "# 선 플롯 생성\n",
    "plt.plot(x , y , marker='o' , linestyle='-' , color='b' , label = '소수(Prime Numbers)')\n",
    "\n",
    "\n",
    "# 축 및 제목 설정\n",
    "plt.xlabel('X-축(axis)')\n",
    "plt.xlabel('Y-축(axis)')\n",
    "plt.title('소수 그리기(Prime Numbers Plot)')\n",
    "plt.legend()\n",
    "\n",
    "# 플롯 표시\n",
    "plt.show()"
   ]
  },
  {
   "cell_type": "code",
   "execution_count": null,
   "metadata": {},
   "outputs": [
    {
     "ename": "",
     "evalue": "",
     "output_type": "error",
     "traceback": [
      "\u001b[1;31mRunning cells with 'Python 3.12.4' requires the ipykernel package.\n",
      "\u001b[1;31mRun the following command to install 'ipykernel' into the Python environment. \n",
      "\u001b[1;31mCommand: 'c:/Users/109-1/AppData/Local/Programs/Python/Python312/python.exe -m pip install ipykernel -U --user --force-reinstall'"
     ]
    }
   ],
   "source": [
    "import matplotlib.pyplot as plt\n",
    "\n",
    "plt.plot([1,2,3,4] , [10,20,30,40] , color='r' , linestyle='--', marker='d' , linewidth=3 , label= 'thick line')\n",
    "plt.plot([1,2,3,4] , [40,30,20,10] , 'b' , ls=':', marker='^' , lw=0.5 , label= 'thin lin')\n",
    "\n",
    "\n",
    "plt.title('속성  marker linewidth linestyle')\n",
    "plt.xlabel('X 축(axis)')\n",
    "plt.ylabel('Y 축(axis)')\n",
    "plt.legend()\n",
    "plt.show()"
   ]
  },
  {
   "cell_type": "markdown",
   "metadata": {},
   "source": [
    "# 산점도"
   ]
  },
  {
   "cell_type": "code",
   "execution_count": 1,
   "metadata": {},
   "outputs": [
    {
     "ename": "ModuleNotFoundError",
     "evalue": "No module named 'numpy'",
     "output_type": "error",
     "traceback": [
      "\u001b[1;31m---------------------------------------------------------------------------\u001b[0m",
      "\u001b[1;31mModuleNotFoundError\u001b[0m                       Traceback (most recent call last)",
      "Cell \u001b[1;32mIn[1], line 1\u001b[0m\n\u001b[1;32m----> 1\u001b[0m \u001b[38;5;28;01mimport\u001b[39;00m \u001b[38;5;21;01mnumpy\u001b[39;00m \u001b[38;5;28;01mas\u001b[39;00m \u001b[38;5;21;01mnp\u001b[39;00m\n\u001b[0;32m      2\u001b[0m \u001b[38;5;28;01mimport\u001b[39;00m \u001b[38;5;21;01mmat\u001b[39;00m\n",
      "\u001b[1;31mModuleNotFoundError\u001b[0m: No module named 'numpy'"
     ]
    }
   ],
   "source": [
    "import numpy as np\n",
    "import matplotlib.pyplot as plt\n",
    "\n",
    "np.random.seed(2025)\n",
    "N = 80\n",
    "x = np.random.rand(N)\n",
    "y = np.random.rand(N)\n",
    "colors = np.random.rand(N)\n",
    "area = (20*np.random.rand(N) **2 )\n",
    "plt.scatter(x,y, s=area , c=colors , alpha=0.7)\n",
    "plt.colorbar()\n",
    "plt.show()"
   ]
  },
  {
   "cell_type": "code",
   "execution_count": null,
   "metadata": {},
   "outputs": [],
   "source": [
    "x = np.random.randint(-100, 100, 1000)\n",
    "y=  np.random.randint(-100 , 100 , 1000)\n",
    "\n",
    "mask1 = abs(x) > 50\n",
    "mask2 = abs(y) > 50\n",
    "x = x[mask1 + mask2]\n",
    "y = y[mask1 + mask2]\n",
    "plt.scatter(x , y, c=x , cmap='jet' , alpha=0.4)\n",
    "plt.colorbar()\n",
    "plt.show()\n"
   ]
  },
  {
   "cell_type": "code",
   "execution_count": null,
   "metadata": {},
   "outputs": [],
   "source": [
    "x = np.random.randint(-100, 100, 1000)\n",
    "y=  np.random.randint(-100 , 100 , 1000)\n",
    "\n",
    "mask1 = abs(x) > 50\n",
    "mask2 = abs(y) > 50\n",
    "x = x[mask1 * mask2]\n",
    "y = y[mask1 * mask2]\n",
    "plt.scatter(x , y, c=x , cmap='jet' , alpha=0.4)\n",
    "plt.colorbar()\n",
    "plt.show()"
   ]
  },
  {
   "cell_type": "markdown",
   "metadata": {},
   "source": [
    "# 막대 그래프"
   ]
  },
  {
   "cell_type": "code",
   "execution_count": null,
   "metadata": {},
   "outputs": [],
   "source": [
    "import  matplotlib.pyplot as plt\n",
    "\n",
    "plt.bar([\"Red\" , \"Green\" , \"Blue\"] , [8,5,10])\n",
    "plt.show()"
   ]
  },
  {
   "cell_type": "code",
   "execution_count": 2,
   "metadata": {},
   "outputs": [],
   "source": [
    "c = [\"red\" , \"hreen\" , \"blue\"]\n",
    "plt.bar(c , [10,4,12] , color=c , alpha=.4)\n",
    "plt.show()"
   ]
  },
  {
   "cell_type": "markdown",
   "metadata": {},
   "source": [
    "# 돗수분포표 그림 hist()"
   ]
  },
  {
   "cell_type": "code",
   "execution_count": null,
   "metadata": {},
   "outputs": [],
   "source": [
    "plt.figure(figsize=(6,4))\n",
    "\n",
    "plt.hist([1,1,1,2,2,3,4,5,6,6,6,6,6] , rwidth=.98 , bins=[.5, 1.5 , 2.5 , 3.5 , 4.5 ,  5.5 , 6.5]) \n",
    "plt.xticks(range(1,7))\n",
    "plt.show()"
   ]
  },
  {
   "cell_type": "code",
   "execution_count": null,
   "metadata": {},
   "outputs": [],
   "source": [
    "dice = np.random.choice(range(1,7) , 100000 , p = [0.15 , 0.24 , 0.3 , 0.1 , 0.1 , 0.1])\n",
    "plt.figure(figsize=(5,3), dpi=200)\n",
    "plt.hist(dice , rwidth=.98 , bins= np.arange(.5 ,7))\n",
    "plt.xticks(range(1,7))\n",
    "plt.savefig('주사위.png')\n",
    "plt.show()"
   ]
  },
  {
   "cell_type": "markdown",
   "metadata": {},
   "source": [
    "# 서브플롯 plt.subplot() 개요"
   ]
  },
  {
   "cell_type": "code",
   "execution_count": null,
   "metadata": {},
   "outputs": [],
   "source": [
    "plt.figure(figsize=(9,4))\n",
    "\n",
    "plt.subplot(2,3,1)\n",
    "plt.subplot(2,3,5)\n",
    "plt.subplot(2,3,6)\n",
    "plt.plot()\n",
    "plt.show()"
   ]
  },
  {
   "cell_type": "code",
   "execution_count": 3,
   "metadata": {},
   "outputs": [
    {
     "ename": "NameError",
     "evalue": "name 'plt' is not defined",
     "output_type": "error",
     "traceback": [
      "\u001b[1;31m---------------------------------------------------------------------------\u001b[0m",
      "\u001b[1;31mNameError\u001b[0m                                 Traceback (most recent call last)",
      "Cell \u001b[1;32mIn[3], line 1\u001b[0m\n\u001b[1;32m----> 1\u001b[0m \u001b[43mplt\u001b[49m\u001b[38;5;241m.\u001b[39mfigure(figsize\u001b[38;5;241m=\u001b[39m(\u001b[38;5;241m9\u001b[39m,\u001b[38;5;241m4\u001b[39m))\n\u001b[0;32m      3\u001b[0m plt\u001b[38;5;241m.\u001b[39msubplots(\u001b[38;5;241m2\u001b[39m,\u001b[38;5;241m4\u001b[39m)\n\u001b[0;32m      4\u001b[0m plt\u001b[38;5;241m.\u001b[39mshow()\n",
      "\u001b[1;31mNameError\u001b[0m: name 'plt' is not defined"
     ]
    }
   ],
   "source": [
    "plt.figure(figsize=(9,4))\n",
    "\n",
    "plt.subplots(2,4)\n",
    "plt.show()"
   ]
  },
  {
   "cell_type": "code",
   "execution_count": null,
   "metadata": {},
   "outputs": [],
   "source": [
    "fig = plt.figure()\n",
    "\n",
    "fig.add_subplot(321).set_title('321')\n",
    "fig.add_subplot(322).set_title('322')\n",
    "fig.add_subplot(323).set_title('323')\n",
    "fig.add_subplot(324).set_title('324')\n",
    "fig.add_subplot(325).set_title('325')\n",
    "fig.add_subplot(326).set_title('326')\n",
    "\n",
    "fig.subplots_adjust(wspace=.2 , hscpace=.7)\n",
    "plt.show()"
   ]
  },
  {
   "cell_type": "code",
   "execution_count": null,
   "metadata": {},
   "outputs": [],
   "source": [
    "fig = plt.figure(figsize=(7,5))\n",
    "\n",
    "ax2 = fig.add_subfigure(2,2,2)\n",
    "ax3 = fig.add_subfigure(2,2,3)\n",
    "ax4 = fig.add_subfigure(2,2,4)"
   ]
  },
  {
   "cell_type": "markdown",
   "metadata": {},
   "source": [
    "# GridSpec 개요"
   ]
  },
  {
   "cell_type": "code",
   "execution_count": null,
   "metadata": {},
   "outputs": [],
   "source": [
    "import matplotlib.pyplot as plt\n",
    "\n",
    "fig1 , fi_axes = plt.subplot(ncols= 2, nrows = 2 , constrained_layout=True)"
   ]
  },
  {
   "cell_type": "code",
   "execution_count": null,
   "metadata": {},
   "outputs": [],
   "source": [
    "import matplotlib.pyplot as plt\n",
    "import matplotlib.gridspec as gridspec\n",
    "\n",
    "\n",
    "fig2 = plt.figure(constranined_layout=True)\n",
    "spec2 = gridspec.GridSpec(ncols=2 , nrows=2, figure=fig2)\n",
    "\n",
    "f2_ax1 = fig2.add_subplot(spec2[0,0])\n",
    "f2_ax2 = fig2.add_subplot(spec2[0,1])\n",
    "f2_ax3 = fig2.add_subplot(spec2[1,0])\n",
    "f2_ax4 = fig2.add_subplot(spec2[1,1])"
   ]
  },
  {
   "cell_type": "markdown",
   "metadata": {},
   "source": [
    "# GridSpec을 활용한 다양한 그리드 레이아웃"
   ]
  },
  {
   "cell_type": "code",
   "execution_count": null,
   "metadata": {},
   "outputs": [],
   "source": [
    "fig3 = plt.figure(constranined_layout=True)\n",
    "gs = fig3.add_gridspec(3,3)\n",
    "f3_ax1 = fig3.add_subplot(gs[0,:])\n",
    "f3_ax1.set_title('gs[0,:]')\n",
    "f3_ax2 = fig3.add_subplot(gs[1, :-1])\n",
    "f3_ax2.set_title('gs[1 , :-1]')\n",
    "f3_ax2 = fig3.add_subplot(gs[1:, -1])\n",
    "f3_ax2.set_title('gs[1: ,-1]')\n",
    "f3_ax2 = fig3.add_subplot(gs[-1,0 ])\n",
    "f3_ax2.set_title('gs[-1 , 0]')\n",
    "f3_ax2 = fig3.add_subplot(gs[-1,-2])\n",
    "f3_ax2.set_title('gs[-1, 02]')\n"
   ]
  },
  {
   "cell_type": "code",
   "execution_count": null,
   "metadata": {},
   "outputs": [],
   "source": [
    "from matplotlib.gridspec import GridSpec\n",
    "\n",
    "gs = GridSpec(8,39)\n",
    "ax1 = plt.subplot(gs[:6 , :35])\n",
    "ax2 = plt.subplot(gs[6: , :])\n",
    "data1 = np.random.rand(6,35)\n",
    "data2 = np.random.rand(2,39)\n",
    "\n",
    "ax1.imshow(data1)\n",
    "ax2.imshow(data2)\n",
    "\n",
    "plt.show()"
   ]
  },
  {
   "cell_type": "markdown",
   "metadata": {},
   "source": [
    "# axes.annotate()로 텍스트 추가"
   ]
  },
  {
   "cell_type": "code",
   "execution_count": null,
   "metadata": {},
   "outputs": [],
   "source": [
    "fig4 = plt.figure(constrained_layout=True)\n",
    "spec4 = fig4.add_gridspec(ncols=2 , nrows=2)\n",
    "\n",
    "anno_opts =  dict(xy=(0.5 , 0.5) , xycoords='axes fraction' , va = 'center' , ha = 'center')\n",
    "\n",
    "f4_ax1 = fig4.add_subplot(spec4[0,0])\n",
    "f4_ax1.annotate('GridSpec[0,0]' , **anno_opts)\n",
    "\n",
    "\n",
    "fig4.add_subplot(spec4[0,1].annotate('GridSpec[0,1:]' , **anno_opts))\n",
    "fig4.add_subplot(spec4[1,0].annotate('GridSpec[1:,0]' , **anno_opts))\n",
    "fig4.add_subplot(spec4[1,1].annotate('GridSpec[1: , 1:]' , **anno_opts))"
   ]
  },
  {
   "cell_type": "markdown",
   "metadata": {},
   "source": [
    "# 가로와 세로 비율로 레이아웃 배치"
   ]
  },
  {
   "cell_type": "code",
   "execution_count": null,
   "metadata": {},
   "outputs": [],
   "source": [
    "fig5 = plt.figure(constrained_layout=True)\n",
    "widths = [2,3,1.5]\n",
    "heights = [1,3,2]\n",
    "spec5 = fig5.add_gridspec(ncols=3 , nrows=3, width_rations=widths , height_rations=heights)\n",
    "\n",
    "for row in range(3):\n",
    "    for col in range(3):\n",
    "        ax = fig5.add_subplot(spec5[row,col])\n",
    "        label = 'width: {}\\nHeight: {} '.foramt(widths[col] , heights[row])\n",
    "        ax.annotate(label , (0.1 , 0.5) , xycoords='axes fraction' , va = 'center')\n",
    "        "
   ]
  },
  {
   "cell_type": "markdown",
   "metadata": {},
   "source": [
    "# 그리드 서브플롯의 추가와 삭제"
   ]
  },
  {
   "cell_type": "code",
   "execution_count": null,
   "metadata": {},
   "outputs": [],
   "source": [
    "fig7 , f7_axs = plt.subplot(ncols=3 , nrows=3)\n",
    "gs = f7_axs[1,2].get_gridspec()\n",
    "print(gs)\n",
    "\n",
    "gs = f7_axs[0,2].get_gridspec()\n",
    "print(gs)"
   ]
  },
  {
   "cell_type": "code",
   "execution_count": null,
   "metadata": {},
   "outputs": [],
   "source": [
    "fig7 , f7_axs = plt.subplot(ncols=3 , nrows=3)\n",
    "gs = f7_axs[1,2].get_gridspec()\n",
    "\n",
    "f7_axs[1, -1].remove()\n",
    "f7_axs[2, -1].remove()\n",
    "\n",
    "axbig = fig7.add_subplot(gs[1:] , -1)\n",
    "\n",
    "axbig.annotate('Big Axes \\nGridSpec[1: , -1]' , (0.1,0.5), xycoords='axes fraction' , va='center')\n",
    "\n",
    "fig7.tight_layout()\n"
   ]
  },
  {
   "cell_type": "code",
   "execution_count": null,
   "metadata": {},
   "outputs": [],
   "source": [
    "fig8 = plt.figure(constrained_layout=False)\n",
    "gs1 = fig8.add_gridspec(nrows=3 , ncols=3 , left=0.05 , right=0.48 , hspace=0.3 , wspace=0.7)\n",
    "\n",
    "f8_ax1 = fig8.add_subplot(gs1[:-1 , :])\n",
    "f8_ax2 = fig8.add_subplot(gs1[-1 , :-1])\n",
    "f8_ax3 = fig8.add_subplot(gs1[-1 , -1])"
   ]
  },
  {
   "cell_type": "code",
   "execution_count": null,
   "metadata": {},
   "outputs": [],
   "source": [
    "fig9 = plt.figure(constrained_layout=False)\n",
    "\n",
    "gs1 = fig9.add_gridspec(nrows=3 , ncols= 3 , left= 0.05 , right=0.48 , wspace=0.05)\n",
    "f9_ax1 = fig9.add_subplot(gs1[:-1, :])\n",
    "f9_ax1.annotate('f9_ax1 -> gs1[:-1 , :]' , (0.1 ,0.5) , xycoords='axes fraction' , va='center')\n",
    "\n",
    "f9_ax2 = fig9.add_subplot(gs1[-1, :-1])\n",
    "f9_ax1.annotate('f9_ax1 -> gs1[-1 , :-1]' , (0.1 ,0.5) , xycoords='axes fraction' , va='center')\n",
    " \n",
    " "
   ]
  },
  {
   "cell_type": "markdown",
   "metadata": {},
   "source": [
    "# SubplotSpec을 사용해 중첩된 그리드 배치"
   ]
  },
  {
   "cell_type": "code",
   "execution_count": null,
   "metadata": {},
   "outputs": [],
   "source": [
    "fig11 = plt.figure(figsize=(8,8) ,constrained_layout=False)\n",
    "outer_grid = fig11.add_gridspec(4,4,wspace=0, hspace=0)\n",
    "\n",
    "for in range(4):\n",
    "    for in range(4):\n",
    "        inner_grid = outer_grid[a,b].subgridspec(3,3,wspace=0 , hspace=0)\n",
    "        axs = inner_grid.subplots()\n",
    "        \n",
    "        \n",
    "        for(c,d) , ax in np. ndenumerate(axs):\n",
    "            s1 ,s2 = f'out[{a} , {b}]' , f'in[{c} , {d}]'\n",
    "            ax.text(0.1 , 0.3 , s1 , fontsize=7)\n",
    "            ax.text(0.1 , 0.6 , s2 , fontsize=7)\n",
    "            ax.set(xticks=[] , yticks=[])\n",
    "            \n",
    "plt.show()"
   ]
  },
  {
   "cell_type": "markdown",
   "metadata": {},
   "source": [
    "# SubplotSpec을 사용하는 GridSpec"
   ]
  },
  {
   "cell_type": "code",
   "execution_count": null,
   "metadata": {},
   "outputs": [],
   "source": [
    "fig10 = plt.figure(constrained_layout=True)\n",
    "gs0 = fig10.add_gridspec(1,2) \n",
    "gs00 = gs0[0].subgridspec(2,3)\n",
    "gs01 = gs0[1].subgridspec(3,2)\n",
    "\n",
    "\n",
    "for a in range(2):\n",
    "    for b in range(3):\n",
    "        fig10.add_subplot(gs00[a,b])\n",
    "        fig10.add_subplot(gs01[b,a])"
   ]
  },
  {
   "cell_type": "markdown",
   "metadata": {},
   "source": [
    "# SubplotSpec을 사용해 중첩된 그리드 배치에 기하학적인 그래프 그리기"
   ]
  },
  {
   "cell_type": "code",
   "execution_count": null,
   "metadata": {},
   "outputs": [],
   "source": [
    "def squiggle_xy(a,b,c,d,i=np.arange(0.0 , 2*np.pi , 0.05)):\n",
    "    return np.sin(i*a)*np.cos(i*b) , np.sin(i*c)*np.cos(i*d)\n",
    "\n",
    "fig = plt.figure(figsize=(4,4))\n",
    "plt.plot(*squiggle_xy(1,2,1,3))\n",
    "plt.show()"
   ]
  },
  {
   "cell_type": "code",
   "execution_count": 4,
   "metadata": {},
   "outputs": [
    {
     "ename": "SyntaxError",
     "evalue": "invalid syntax (44985814.py, line 10)",
     "output_type": "error",
     "traceback": [
      "\u001b[1;36m  Cell \u001b[1;32mIn[4], line 10\u001b[1;36m\u001b[0m\n\u001b[1;33m    for in range(4):\u001b[0m\n\u001b[1;37m        ^\u001b[0m\n\u001b[1;31mSyntaxError\u001b[0m\u001b[1;31m:\u001b[0m invalid syntax\n"
     ]
    }
   ],
   "source": [
    "import numpy as np\n",
    "import matplotlib.pyplot as plt\n",
    "\n",
    "from matplotlib.gridspec import GridSpec\n",
    "\n",
    "def squiggle_xy(a,b,c,d, i=np.arange(0.0 , 2*np.pi , 0.05)):\n",
    "    return np.sin(i*a)*np.cos(i*b), np.sin(i*c)*np.cos(i*d)\n",
    "\n",
    "\n",
    "fig11 = plt.figure(figsize=(8,8) , constrained_layout=False)\n",
    "outer_grid = fig11.add_gridspec(4,4,wspace=0 , hspace=0)\n",
    "\n",
    "\n",
    "for in range(4):\n",
    "    for in range(4):\n",
    "        \n",
    "        inner_grid = outer_grid[a,b].subgridspec(3,3, wspace=0 , hspace=0)\n",
    "        axs = inner_grid.subplots()\n",
    "\n",
    "\n",
    "    for (c,d) , ax in np.ndenumerate(axs):\n",
    "        ax.plot(*squiggle_xy(a+1 , b+1 , c+1 , d+1))\n",
    "        ax.set(xticks=[] , yticks=[])\n",
    "        \n",
    "        \n",
    "\n",
    "for ax in fig11.get_axes():\n",
    "    ss = ax.get_subplotspec()\n",
    "    ax.spines.top.set_visible(ss.is_first_row())\n",
    "    ax.spines.bottom.set_visible(ss.is_last_row())\n",
    "    ax.spines.left.set_visible(ss.is_first_row())\n",
    "    ax.spines.right.set_visible(ss.is_last_row())\n",
    "        \n",
    "        \n",
    "        \n",
    "        \n",
    "plt.show()"
   ]
  },
  {
   "cell_type": "code",
   "execution_count": null,
   "metadata": {},
   "outputs": [],
   "source": []
  }
 ],
 "metadata": {
  "kernelspec": {
   "display_name": "Python 3",
   "language": "python",
   "name": "python3"
  },
  "language_info": {
   "codemirror_mode": {
    "name": "ipython",
    "version": 3
   },
   "file_extension": ".py",
   "mimetype": "text/x-python",
   "name": "python",
   "nbconvert_exporter": "python",
   "pygments_lexer": "ipython3",
   "version": "3.12.4"
  }
 },
 "nbformat": 4,
 "nbformat_minor": 2
}
