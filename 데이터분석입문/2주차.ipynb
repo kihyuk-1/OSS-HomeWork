{
 "cells": [
  {
   "cell_type": "code",
   "execution_count": 4,
   "id": "60ccd5d5-9c81-46c4-976d-3d352d4e62d7",
   "metadata": {},
   "outputs": [
    {
     "data": {
      "text/plain": [
       "3.4"
      ]
     },
     "execution_count": 4,
     "metadata": {},
     "output_type": "execute_result"
    }
   ],
   "source": [
    "#comments\n",
    "3.4 # 실수"
   ]
  },
  {
   "cell_type": "code",
   "execution_count": 5,
   "id": "09836301",
   "metadata": {},
   "outputs": [
    {
     "data": {
      "text/plain": [
       "7"
      ]
     },
     "execution_count": 5,
     "metadata": {},
     "output_type": "execute_result"
    }
   ],
   "source": [
    "7 # 점수 "
   ]
  },
  {
   "cell_type": "code",
   "execution_count": 6,
   "id": "71a956f9-6ce9-4f35-9b0d-508e2fc71544",
   "metadata": {},
   "outputs": [
    {
     "ename": "SyntaxError",
     "evalue": "invalid syntax (1737761505.py, line 1)",
     "output_type": "error",
     "traceback": [
      "\u001b[1;36m  Cell \u001b[1;32mIn[6], line 1\u001b[1;36m\u001b[0m\n\u001b[1;33m    -5 4.5\u001b[0m\n\u001b[1;37m       ^\u001b[0m\n\u001b[1;31mSyntaxError\u001b[0m\u001b[1;31m:\u001b[0m invalid syntax\n"
     ]
    }
   ],
   "source": [
    "-5 4.5"
   ]
  },
  {
   "cell_type": "code",
   "execution_count": null,
   "id": "b46178cd-3254-4b6f-8bec-badacba4fa8e",
   "metadata": {},
   "outputs": [
    {
     "data": {
      "text/plain": [
       "(10, -3)"
      ]
     },
     "execution_count": 4,
     "metadata": {},
     "output_type": "execute_result"
    }
   ],
   "source": [
    "10 , -3"
   ]
  },
  {
   "cell_type": "code",
   "execution_count": 85,
   "id": "c6ebd8ea-411a-4ca4-865c-fc3cb3b780da",
   "metadata": {},
   "outputs": [],
   "source": [
    "# variable\n",
    "a= 3 #assign value to variable a"
   ]
  },
  {
   "cell_type": "code",
   "execution_count": 86,
   "id": "f656fb03-9c6c-4aba-bd46-cb3821eb6b33",
   "metadata": {},
   "outputs": [
    {
     "name": "stdout",
     "output_type": "stream",
     "text": [
      "10 20\n",
      "20 10\n"
     ]
    }
   ],
   "source": [
    "m , n = 10 , 20\n",
    "print(m , n)\n",
    "m , n = n , m\n",
    "print(m,n)"
   ]
  },
  {
   "cell_type": "code",
   "execution_count": 87,
   "id": "c4057314-5bab-47e0-a8bb-552bd1b9b48d",
   "metadata": {},
   "outputs": [
    {
     "data": {
      "text/plain": [
       "2026"
      ]
     },
     "execution_count": 87,
     "metadata": {},
     "output_type": "execute_result"
    }
   ],
   "source": [
    "# var name\n",
    "age = 19\n",
    "age\n",
    "my_age = 20\n",
    "my_age\n",
    "_height = 172.3\n",
    "_height\n",
    "\n",
    "_26asian = 2026\n",
    "_26asian"
   ]
  },
  {
   "cell_type": "code",
   "execution_count": 88,
   "id": "5f793215-9b1a-4dde-ba7f-bf615fd3e1c3",
   "metadata": {},
   "outputs": [
    {
     "ename": "SyntaxError",
     "evalue": "invalid decimal literal (1289707006.py, line 2)",
     "output_type": "error",
     "traceback": [
      "\u001b[1;36m  Cell \u001b[1;32mIn[88], line 2\u001b[1;36m\u001b[0m\n\u001b[1;33m    26worldcup = 2026 # 수가 맨 먼저 위치하면 에러\u001b[0m\n\u001b[1;37m     ^\u001b[0m\n\u001b[1;31mSyntaxError\u001b[0m\u001b[1;31m:\u001b[0m invalid decimal literal\n"
     ]
    }
   ],
   "source": [
    "# 잘못된 변수\n",
    "26worldcup = 2026 # 수가 맨 먼저 위치하면 에러\n",
    "my.age = 21 # .은 사용하면 에러\n",
    "my credits = 18 공백 문자 등 다른 문자 사용하면 에러"
   ]
  },
  {
   "cell_type": "code",
   "execution_count": 89,
   "id": "2dcb616d-ce7b-443d-99b6-22ccc94394fe",
   "metadata": {},
   "outputs": [
    {
     "name": "stdout",
     "output_type": "stream",
     "text": [
      "10\n"
     ]
    },
    {
     "data": {
      "text/plain": [
       "int"
      ]
     },
     "execution_count": 89,
     "metadata": {},
     "output_type": "execute_result"
    }
   ],
   "source": [
    "# int\n",
    "a = 10\n",
    "print(a)\n",
    "type(a)"
   ]
  },
  {
   "cell_type": "code",
   "execution_count": 90,
   "id": "7f51036d-664c-48ea-bb61-c3038ecd49d6",
   "metadata": {},
   "outputs": [
    {
     "name": "stdout",
     "output_type": "stream",
     "text": [
      "2.718\n"
     ]
    },
    {
     "data": {
      "text/plain": [
       "float"
      ]
     },
     "execution_count": 90,
     "metadata": {},
     "output_type": "execute_result"
    }
   ],
   "source": [
    "# float\n",
    "x = 2.718\n",
    "print(x)\n",
    "type(x)"
   ]
  },
  {
   "cell_type": "code",
   "execution_count": 91,
   "id": "ae91a1d3-a40c-4bb9-8863-88795e486954",
   "metadata": {},
   "outputs": [
    {
     "name": "stdout",
     "output_type": "stream",
     "text": [
      "(3-4j)\n"
     ]
    },
    {
     "data": {
      "text/plain": [
       "complex"
      ]
     },
     "execution_count": 91,
     "metadata": {},
     "output_type": "execute_result"
    }
   ],
   "source": [
    "# complex\n",
    "c = 3 - 4j\n",
    "print(c)\n",
    "type(c)"
   ]
  },
  {
   "cell_type": "code",
   "execution_count": 1,
   "id": "3be98e41-416b-4479-ad4d-2f3bf9c446e3",
   "metadata": {
    "scrolled": true
   },
   "outputs": [
    {
     "name": "stdout",
     "output_type": "stream",
     "text": [
      "2024 9 21\n"
     ]
    },
    {
     "data": {
      "text/plain": [
       "datetime.datetime"
      ]
     },
     "execution_count": 1,
     "metadata": {},
     "output_type": "execute_result"
    }
   ],
   "source": [
    "import datetime as dt\n",
    "c = dt.datetime.now()\n",
    "print(c.year , c.month , c.day)\n",
    "type(c)"
   ]
  },
  {
   "cell_type": "code",
   "execution_count": null,
   "id": "646002fd-8dbc-43a9-903c-29e31ece9456",
   "metadata": {
    "scrolled": true
   },
   "outputs": [
    {
     "name": "stdout",
     "output_type": "stream",
     "text": [
      "요일: <built-in method weekday of datetime.datetime object at 0x0000023448814F00>\n"
     ]
    }
   ],
   "source": [
    "import datetime as dt\n",
    "d = dt.datetime(2026 , 3 ,1)\n",
    "print('요일:' , d.weekday)"
   ]
  },
  {
   "cell_type": "code",
   "execution_count": 2,
   "id": "e7626935-45ea-4b1f-8cae-be4baaeb7f1e",
   "metadata": {},
   "outputs": [
    {
     "data": {
      "text/plain": [
       "2.5"
      ]
     },
     "execution_count": 2,
     "metadata": {},
     "output_type": "execute_result"
    }
   ],
   "source": [
    "10 + 4.3\n",
    "5.4-1.2\n",
    "4*2.7\n",
    "10 / 4"
   ]
  },
  {
   "cell_type": "code",
   "execution_count": 93,
   "id": "de34595e-1403-44f0-9477-f61f1fa88c2f",
   "metadata": {},
   "outputs": [
    {
     "data": {
      "text/plain": [
       "49"
      ]
     },
     "execution_count": 93,
     "metadata": {},
     "output_type": "execute_result"
    }
   ],
   "source": [
    "10 % 3 # 나머지 연산자 integer division\n",
    "10 // 3 # 몫 연산자\n",
    "\n",
    "3 ** 3 # 지수 연산자\n",
    "3 ** 2.8 # 지수 연산자\n",
    "\n",
    "3 * (4-2)\n",
    "(10-3) **2"
   ]
  },
  {
   "cell_type": "code",
   "execution_count": null,
   "id": "fe083738-babe-4620-b923-209af5148135",
   "metadata": {},
   "outputs": [],
   "source": []
  },
  {
   "cell_type": "code",
   "execution_count": null,
   "id": "ddc5c06e-e2e6-4402-99c4-a82124147f42",
   "metadata": {},
   "outputs": [
    {
     "name": "stdout",
     "output_type": "stream",
     "text": [
      "당신이 태어난 년도는 ? 2000\n"
     ]
    }
   ],
   "source": [
    "year = input('당신이 태어난 년도는 ?')"
   ]
  },
  {
   "cell_type": "code",
   "execution_count": null,
   "id": "1b0fe1d1-4472-49d0-b990-2f8f414f04d9",
   "metadata": {},
   "outputs": [
    {
     "name": "stdout",
     "output_type": "stream",
     "text": [
      "2000\n"
     ]
    },
    {
     "data": {
      "text/plain": [
       "str"
      ]
     },
     "execution_count": 14,
     "metadata": {},
     "output_type": "execute_result"
    }
   ],
   "source": [
    "print(year)\n",
    "type(year)"
   ]
  },
  {
   "cell_type": "code",
   "execution_count": null,
   "id": "e3612c5f-afaf-4a61-acc6-31fe6fd52125",
   "metadata": {},
   "outputs": [
    {
     "ename": "TypeError",
     "evalue": "unsupported operand type(s) for -: 'int' and 'str'",
     "output_type": "error",
     "traceback": [
      "\u001b[1;31m---------------------------------------------------------------------------\u001b[0m",
      "\u001b[1;31mTypeError\u001b[0m                                 Traceback (most recent call last)",
      "Cell \u001b[1;32mIn[17], line 1\u001b[0m\n\u001b[1;32m----> 1\u001b[0m age \u001b[38;5;241m=\u001b[39m \u001b[38;5;241m2026\u001b[39m \u001b[38;5;241m-\u001b[39m year\n",
      "\u001b[1;31mTypeError\u001b[0m: unsupported operand type(s) for -: 'int' and 'str'"
     ]
    }
   ],
   "source": [
    "age = 2026 - year #  오류 발생"
   ]
  },
  {
   "cell_type": "code",
   "execution_count": null,
   "id": "1ad0e93a-ca4b-4f70-a3f4-72121a861bb3",
   "metadata": {},
   "outputs": [
    {
     "name": "stdout",
     "output_type": "stream",
     "text": [
      "나이 26\n"
     ]
    }
   ],
   "source": [
    "age = 2026 - int(year) # 점수 변환\n",
    "print('나이' , age)"
   ]
  },
  {
   "cell_type": "code",
   "execution_count": null,
   "id": "58e24bd0-4f0e-4f13-a9cb-6a99fe51d535",
   "metadata": {},
   "outputs": [
    {
     "name": "stdout",
     "output_type": "stream",
     "text": [
      "당신이 태어난 년도는? 232\n"
     ]
    },
    {
     "name": "stdout",
     "output_type": "stream",
     "text": [
      "나이 1794\n"
     ]
    }
   ],
   "source": [
    "year  = int(input('당신이 태어난 년도는?'))\n",
    "print('나이' , 2026-year)"
   ]
  },
  {
   "cell_type": "code",
   "execution_count": 2,
   "id": "998b7203-2727-4f50-b6c6-f77ce8861e02",
   "metadata": {},
   "outputs": [
    {
     "data": {
      "text/plain": [
       "12"
      ]
     },
     "execution_count": 2,
     "metadata": {},
     "output_type": "execute_result"
    }
   ],
   "source": [
    "abs(-3)\n",
    "min(10,20,1)\n",
    "max(10,100,1)\n",
    "min([10,11,12])\n",
    "max([10,11,12])"
   ]
  },
  {
   "cell_type": "code",
   "execution_count": 1,
   "id": "881c3b0c-bc59-4d19-881c-de7e982a97ee",
   "metadata": {},
   "outputs": [
    {
     "data": {
      "text/plain": [
       "3.142"
      ]
     },
     "execution_count": 1,
     "metadata": {},
     "output_type": "execute_result"
    }
   ],
   "source": [
    "round(3.1416)\n",
    "round(3.1415 ,3)"
   ]
  },
  {
   "cell_type": "code",
   "execution_count": 2,
   "id": "5ad71d99-6ef7-42ac-8fec-efb86d7c2d35",
   "metadata": {},
   "outputs": [
    {
     "data": {
      "text/plain": [
       "2.0"
      ]
     },
     "execution_count": 2,
     "metadata": {},
     "output_type": "execute_result"
    }
   ],
   "source": [
    "import math as m \n",
    "m.pi , m.e\n",
    "\n",
    "m.sqrt(4)"
   ]
  },
  {
   "cell_type": "code",
   "execution_count": 3,
   "id": "30cddf30-0ca4-466b-8486-d08414395ff2",
   "metadata": {},
   "outputs": [
    {
     "data": {
      "text/plain": [
       "3"
      ]
     },
     "execution_count": 3,
     "metadata": {},
     "output_type": "execute_result"
    }
   ],
   "source": [
    "m.ceil(3.7)\n",
    "m.ceil(3.1)\n",
    "m.ceil(-3.7)\n",
    "m.ceil(-3.1)\n",
    "m.floor(3.7)\n",
    "m.floor(3.1)\n",
    "m.floor(-3.7)\n",
    "m.floor(-3.1)\n",
    "m.trunc(3.1415)"
   ]
  },
  {
   "cell_type": "code",
   "execution_count": null,
   "id": "09e492c8-7871-4ce0-b69d-12cfab84e123",
   "metadata": {},
   "outputs": [
    {
     "name": "stdout",
     "output_type": "stream",
     "text": [
      "Requirement already satisfied: pydataset in c:\\users\\109-1\\anaconda3\\lib\\site-packages (0.2.0)\n",
      "Requirement already satisfied: pandas in c:\\users\\109-1\\anaconda3\\lib\\site-packages (from pydataset) (2.2.2)\n",
      "Requirement already satisfied: numpy>=1.26.0 in c:\\users\\109-1\\anaconda3\\lib\\site-packages (from pandas->pydataset) (1.26.4)\n",
      "Requirement already satisfied: python-dateutil>=2.8.2 in c:\\users\\109-1\\appdata\\roaming\\python\\python312\\site-packages (from pandas->pydataset) (2.9.0.post0)\n",
      "Requirement already satisfied: pytz>=2020.1 in c:\\users\\109-1\\anaconda3\\lib\\site-packages (from pandas->pydataset) (2024.1)\n",
      "Requirement already satisfied: tzdata>=2022.7 in c:\\users\\109-1\\anaconda3\\lib\\site-packages (from pandas->pydataset) (2023.3)\n",
      "Requirement already satisfied: six>=1.5 in c:\\users\\109-1\\appdata\\roaming\\python\\python312\\site-packages (from python-dateutil>=2.8.2->pandas->pydataset) (1.16.0)\n"
     ]
    }
   ],
   "source": [
    "!pip install pydataset\n"
   ]
  },
  {
   "cell_type": "code",
   "execution_count": null,
   "id": "231bbfbd-bcd4-45f7-b4b4-7f1244116c83",
   "metadata": {},
   "outputs": [
    {
     "ename": "ModuleNotFoundError",
     "evalue": "No module named 'pydataset'",
     "output_type": "error",
     "traceback": [
      "\u001b[1;31m---------------------------------------------------------------------------\u001b[0m",
      "\u001b[1;31mModuleNotFoundError\u001b[0m                       Traceback (most recent call last)",
      "Cell \u001b[1;32mIn[7], line 1\u001b[0m\n\u001b[1;32m----> 1\u001b[0m \u001b[38;5;28;01mfrom\u001b[39;00m \u001b[38;5;21;01mpydataset\u001b[39;00m \u001b[38;5;28;01mimport\u001b[39;00m data\n\u001b[0;32m      2\u001b[0m all_data \u001b[38;5;241m=\u001b[39m data()\n\u001b[0;32m      3\u001b[0m all_data\n",
      "\u001b[1;31mModuleNotFoundError\u001b[0m: No module named 'pydataset'"
     ]
    }
   ],
   "source": [
    "from pydataset import data\n",
    "all_data = data()\n",
    "all_data"
   ]
  },
  {
   "cell_type": "code",
   "execution_count": null,
   "id": "393d8924-d597-4449-98ea-8c28e08b8b69",
   "metadata": {},
   "outputs": [
    {
     "data": {
      "text/html": [
       "<div>\n",
       "<style scoped>\n",
       "    .dataframe tbody tr th:only-of-type {\n",
       "        vertical-align: middle;\n",
       "    }\n",
       "\n",
       "    .dataframe tbody tr th {\n",
       "        vertical-align: top;\n",
       "    }\n",
       "\n",
       "    .dataframe thead th {\n",
       "        text-align: right;\n",
       "    }\n",
       "</style>\n",
       "<table border=\"1\" class=\"dataframe\">\n",
       "  <thead>\n",
       "    <tr style=\"text-align: right;\">\n",
       "      <th></th>\n",
       "      <th>speed</th>\n",
       "      <th>dist</th>\n",
       "    </tr>\n",
       "  </thead>\n",
       "  <tbody>\n",
       "    <tr>\n",
       "      <th>1</th>\n",
       "      <td>4</td>\n",
       "      <td>2</td>\n",
       "    </tr>\n",
       "    <tr>\n",
       "      <th>2</th>\n",
       "      <td>4</td>\n",
       "      <td>10</td>\n",
       "    </tr>\n",
       "    <tr>\n",
       "      <th>3</th>\n",
       "      <td>7</td>\n",
       "      <td>4</td>\n",
       "    </tr>\n",
       "    <tr>\n",
       "      <th>4</th>\n",
       "      <td>7</td>\n",
       "      <td>22</td>\n",
       "    </tr>\n",
       "    <tr>\n",
       "      <th>5</th>\n",
       "      <td>8</td>\n",
       "      <td>16</td>\n",
       "    </tr>\n",
       "    <tr>\n",
       "      <th>6</th>\n",
       "      <td>9</td>\n",
       "      <td>10</td>\n",
       "    </tr>\n",
       "    <tr>\n",
       "      <th>7</th>\n",
       "      <td>10</td>\n",
       "      <td>18</td>\n",
       "    </tr>\n",
       "    <tr>\n",
       "      <th>8</th>\n",
       "      <td>10</td>\n",
       "      <td>26</td>\n",
       "    </tr>\n",
       "    <tr>\n",
       "      <th>9</th>\n",
       "      <td>10</td>\n",
       "      <td>34</td>\n",
       "    </tr>\n",
       "    <tr>\n",
       "      <th>10</th>\n",
       "      <td>11</td>\n",
       "      <td>17</td>\n",
       "    </tr>\n",
       "    <tr>\n",
       "      <th>11</th>\n",
       "      <td>11</td>\n",
       "      <td>28</td>\n",
       "    </tr>\n",
       "    <tr>\n",
       "      <th>12</th>\n",
       "      <td>12</td>\n",
       "      <td>14</td>\n",
       "    </tr>\n",
       "    <tr>\n",
       "      <th>13</th>\n",
       "      <td>12</td>\n",
       "      <td>20</td>\n",
       "    </tr>\n",
       "    <tr>\n",
       "      <th>14</th>\n",
       "      <td>12</td>\n",
       "      <td>24</td>\n",
       "    </tr>\n",
       "    <tr>\n",
       "      <th>15</th>\n",
       "      <td>12</td>\n",
       "      <td>28</td>\n",
       "    </tr>\n",
       "    <tr>\n",
       "      <th>16</th>\n",
       "      <td>13</td>\n",
       "      <td>26</td>\n",
       "    </tr>\n",
       "    <tr>\n",
       "      <th>17</th>\n",
       "      <td>13</td>\n",
       "      <td>34</td>\n",
       "    </tr>\n",
       "    <tr>\n",
       "      <th>18</th>\n",
       "      <td>13</td>\n",
       "      <td>34</td>\n",
       "    </tr>\n",
       "    <tr>\n",
       "      <th>19</th>\n",
       "      <td>13</td>\n",
       "      <td>46</td>\n",
       "    </tr>\n",
       "    <tr>\n",
       "      <th>20</th>\n",
       "      <td>14</td>\n",
       "      <td>26</td>\n",
       "    </tr>\n",
       "    <tr>\n",
       "      <th>21</th>\n",
       "      <td>14</td>\n",
       "      <td>36</td>\n",
       "    </tr>\n",
       "    <tr>\n",
       "      <th>22</th>\n",
       "      <td>14</td>\n",
       "      <td>60</td>\n",
       "    </tr>\n",
       "    <tr>\n",
       "      <th>23</th>\n",
       "      <td>14</td>\n",
       "      <td>80</td>\n",
       "    </tr>\n",
       "    <tr>\n",
       "      <th>24</th>\n",
       "      <td>15</td>\n",
       "      <td>20</td>\n",
       "    </tr>\n",
       "    <tr>\n",
       "      <th>25</th>\n",
       "      <td>15</td>\n",
       "      <td>26</td>\n",
       "    </tr>\n",
       "    <tr>\n",
       "      <th>26</th>\n",
       "      <td>15</td>\n",
       "      <td>54</td>\n",
       "    </tr>\n",
       "    <tr>\n",
       "      <th>27</th>\n",
       "      <td>16</td>\n",
       "      <td>32</td>\n",
       "    </tr>\n",
       "    <tr>\n",
       "      <th>28</th>\n",
       "      <td>16</td>\n",
       "      <td>40</td>\n",
       "    </tr>\n",
       "    <tr>\n",
       "      <th>29</th>\n",
       "      <td>17</td>\n",
       "      <td>32</td>\n",
       "    </tr>\n",
       "    <tr>\n",
       "      <th>30</th>\n",
       "      <td>17</td>\n",
       "      <td>40</td>\n",
       "    </tr>\n",
       "    <tr>\n",
       "      <th>31</th>\n",
       "      <td>17</td>\n",
       "      <td>50</td>\n",
       "    </tr>\n",
       "    <tr>\n",
       "      <th>32</th>\n",
       "      <td>18</td>\n",
       "      <td>42</td>\n",
       "    </tr>\n",
       "    <tr>\n",
       "      <th>33</th>\n",
       "      <td>18</td>\n",
       "      <td>56</td>\n",
       "    </tr>\n",
       "    <tr>\n",
       "      <th>34</th>\n",
       "      <td>18</td>\n",
       "      <td>76</td>\n",
       "    </tr>\n",
       "    <tr>\n",
       "      <th>35</th>\n",
       "      <td>18</td>\n",
       "      <td>84</td>\n",
       "    </tr>\n",
       "    <tr>\n",
       "      <th>36</th>\n",
       "      <td>19</td>\n",
       "      <td>36</td>\n",
       "    </tr>\n",
       "    <tr>\n",
       "      <th>37</th>\n",
       "      <td>19</td>\n",
       "      <td>46</td>\n",
       "    </tr>\n",
       "    <tr>\n",
       "      <th>38</th>\n",
       "      <td>19</td>\n",
       "      <td>68</td>\n",
       "    </tr>\n",
       "    <tr>\n",
       "      <th>39</th>\n",
       "      <td>20</td>\n",
       "      <td>32</td>\n",
       "    </tr>\n",
       "    <tr>\n",
       "      <th>40</th>\n",
       "      <td>20</td>\n",
       "      <td>48</td>\n",
       "    </tr>\n",
       "    <tr>\n",
       "      <th>41</th>\n",
       "      <td>20</td>\n",
       "      <td>52</td>\n",
       "    </tr>\n",
       "    <tr>\n",
       "      <th>42</th>\n",
       "      <td>20</td>\n",
       "      <td>56</td>\n",
       "    </tr>\n",
       "    <tr>\n",
       "      <th>43</th>\n",
       "      <td>20</td>\n",
       "      <td>64</td>\n",
       "    </tr>\n",
       "    <tr>\n",
       "      <th>44</th>\n",
       "      <td>22</td>\n",
       "      <td>66</td>\n",
       "    </tr>\n",
       "    <tr>\n",
       "      <th>45</th>\n",
       "      <td>23</td>\n",
       "      <td>54</td>\n",
       "    </tr>\n",
       "    <tr>\n",
       "      <th>46</th>\n",
       "      <td>24</td>\n",
       "      <td>70</td>\n",
       "    </tr>\n",
       "    <tr>\n",
       "      <th>47</th>\n",
       "      <td>24</td>\n",
       "      <td>92</td>\n",
       "    </tr>\n",
       "    <tr>\n",
       "      <th>48</th>\n",
       "      <td>24</td>\n",
       "      <td>93</td>\n",
       "    </tr>\n",
       "    <tr>\n",
       "      <th>49</th>\n",
       "      <td>24</td>\n",
       "      <td>120</td>\n",
       "    </tr>\n",
       "    <tr>\n",
       "      <th>50</th>\n",
       "      <td>25</td>\n",
       "      <td>85</td>\n",
       "    </tr>\n",
       "  </tbody>\n",
       "</table>\n",
       "</div>"
      ],
      "text/plain": [
       "    speed  dist\n",
       "1       4     2\n",
       "2       4    10\n",
       "3       7     4\n",
       "4       7    22\n",
       "5       8    16\n",
       "6       9    10\n",
       "7      10    18\n",
       "8      10    26\n",
       "9      10    34\n",
       "10     11    17\n",
       "11     11    28\n",
       "12     12    14\n",
       "13     12    20\n",
       "14     12    24\n",
       "15     12    28\n",
       "16     13    26\n",
       "17     13    34\n",
       "18     13    34\n",
       "19     13    46\n",
       "20     14    26\n",
       "21     14    36\n",
       "22     14    60\n",
       "23     14    80\n",
       "24     15    20\n",
       "25     15    26\n",
       "26     15    54\n",
       "27     16    32\n",
       "28     16    40\n",
       "29     17    32\n",
       "30     17    40\n",
       "31     17    50\n",
       "32     18    42\n",
       "33     18    56\n",
       "34     18    76\n",
       "35     18    84\n",
       "36     19    36\n",
       "37     19    46\n",
       "38     19    68\n",
       "39     20    32\n",
       "40     20    48\n",
       "41     20    52\n",
       "42     20    56\n",
       "43     20    64\n",
       "44     22    66\n",
       "45     23    54\n",
       "46     24    70\n",
       "47     24    92\n",
       "48     24    93\n",
       "49     24   120\n",
       "50     25    85"
      ]
     },
     "execution_count": 40,
     "metadata": {},
     "output_type": "execute_result"
    }
   ],
   "source": [
    "cars = data('cars')\n",
    "cars"
   ]
  },
  {
   "cell_type": "code",
   "execution_count": 4,
   "id": "906fddb5-d0d5-407f-8e17-8363cdd4b7da",
   "metadata": {},
   "outputs": [
    {
     "name": "stderr",
     "output_type": "stream",
     "text": [
      "UsageError: Invalid config statement: 'InI', should be `Class.trait = value`.\n"
     ]
    }
   ],
   "source": [
    "%config InI"
   ]
  },
  {
   "cell_type": "code",
   "execution_count": 7,
   "id": "468b74d3-d2e3-4085-bec0-918cc11fb049",
   "metadata": {},
   "outputs": [
    {
     "ename": "NameError",
     "evalue": "name 'cars' is not defined",
     "output_type": "error",
     "traceback": [
      "\u001b[1;31m---------------------------------------------------------------------------\u001b[0m",
      "\u001b[1;31mNameError\u001b[0m                                 Traceback (most recent call last)",
      "Cell \u001b[1;32mIn[7], line 2\u001b[0m\n\u001b[0;32m      1\u001b[0m \u001b[38;5;28;01mimport\u001b[39;00m \u001b[38;5;21;01mmatplotlib\u001b[39;00m\u001b[38;5;21;01m.\u001b[39;00m\u001b[38;5;21;01mpyplot\u001b[39;00m \u001b[38;5;28;01mas\u001b[39;00m \u001b[38;5;21;01mplt\u001b[39;00m\n\u001b[1;32m----> 2\u001b[0m plt\u001b[38;5;241m.\u001b[39mscatter(x \u001b[38;5;241m=\u001b[39m \u001b[43mcars\u001b[49m\u001b[38;5;241m.\u001b[39mspeed , y \u001b[38;5;241m=\u001b[39m cars\u001b[38;5;241m.\u001b[39mdist)\n",
      "\u001b[1;31mNameError\u001b[0m: name 'cars' is not defined"
     ]
    }
   ],
   "source": [
    "import matplotlib.pyplot as plt\n",
    "plt.scatter(x = cars.speed , y = cars.dist)"
   ]
  },
  {
   "cell_type": "code",
   "execution_count": 3,
   "id": "26b4537a-0902-4e9e-abaf-303e2cdc60b4",
   "metadata": {},
   "outputs": [
    {
     "ename": "NameError",
     "evalue": "name 'cars' is not defined",
     "output_type": "error",
     "traceback": [
      "\u001b[1;31m---------------------------------------------------------------------------\u001b[0m",
      "\u001b[1;31mNameError\u001b[0m                                 Traceback (most recent call last)",
      "Cell \u001b[1;32mIn[3], line 3\u001b[0m\n\u001b[0;32m      1\u001b[0m \u001b[38;5;28;01mimport\u001b[39;00m \u001b[38;5;21;01mmatplotlib\u001b[39;00m\u001b[38;5;21;01m.\u001b[39;00m\u001b[38;5;21;01mpyplot\u001b[39;00m \u001b[38;5;28;01mas\u001b[39;00m \u001b[38;5;21;01mplt\u001b[39;00m\n\u001b[0;32m      2\u001b[0m \u001b[38;5;28;01mimport\u001b[39;00m \u001b[38;5;21;01mseaborn\u001b[39;00m \u001b[38;5;28;01mas\u001b[39;00m \u001b[38;5;21;01msns\u001b[39;00m\n\u001b[1;32m----> 3\u001b[0m sns\u001b[38;5;241m.\u001b[39mscatterplot (x \u001b[38;5;241m=\u001b[39m \u001b[43mcars\u001b[49m\u001b[38;5;241m.\u001b[39mspeed , y \u001b[38;5;241m=\u001b[39m cars\u001b[38;5;241m.\u001b[39mdist)\n\u001b[0;32m      4\u001b[0m plt\u001b[38;5;241m.\u001b[39mshow()\n",
      "\u001b[1;31mNameError\u001b[0m: name 'cars' is not defined"
     ]
    }
   ],
   "source": [
    "import matplotlib.pyplot as plt\n",
    "import seaborn as sns\n",
    "sns.scatterplot (x = cars.speed , y = cars.dist)\n",
    "plt.show()"
   ]
  },
  {
   "cell_type": "code",
   "execution_count": 2,
   "id": "bf3bf3f1-1683-4eb7-9af8-4c2ca6f2d275",
   "metadata": {},
   "outputs": [
    {
     "ename": "NameError",
     "evalue": "name 'data' is not defined",
     "output_type": "error",
     "traceback": [
      "\u001b[1;31m---------------------------------------------------------------------------\u001b[0m",
      "\u001b[1;31mNameError\u001b[0m                                 Traceback (most recent call last)",
      "Cell \u001b[1;32mIn[2], line 1\u001b[0m\n\u001b[1;32m----> 1\u001b[0m mpg \u001b[38;5;241m=\u001b[39m \u001b[43mdata\u001b[49m(\u001b[38;5;124m'\u001b[39m\u001b[38;5;124mmpg\u001b[39m\u001b[38;5;124m'\u001b[39m)\n\u001b[0;32m      2\u001b[0m mpg\u001b[38;5;241m.\u001b[39mhead()\n",
      "\u001b[1;31mNameError\u001b[0m: name 'data' is not defined"
     ]
    }
   ],
   "source": [
    "mpg = data('mpg')\n",
    "mpg.head()"
   ]
  },
  {
   "cell_type": "code",
   "execution_count": null,
   "id": "ef0e417b-b615-4959-867d-bc195aad52f8",
   "metadata": {},
   "outputs": [
    {
     "name": "stdout",
     "output_type": "stream",
     "text": [
      "<class 'pandas.core.frame.DataFrame'>\n",
      "Index: 234 entries, 1 to 234\n",
      "Data columns (total 11 columns):\n",
      " #   Column        Non-Null Count  Dtype  \n",
      "---  ------        --------------  -----  \n",
      " 0   manufacturer  234 non-null    object \n",
      " 1   model         234 non-null    object \n",
      " 2   displ         234 non-null    float64\n",
      " 3   year          234 non-null    int64  \n",
      " 4   cyl           234 non-null    int64  \n",
      " 5   trans         234 non-null    object \n",
      " 6   drv           234 non-null    object \n",
      " 7   cty           234 non-null    int64  \n",
      " 8   hwy           234 non-null    int64  \n",
      " 9   fl            234 non-null    object \n",
      " 10  class         234 non-null    object \n",
      "dtypes: float64(1), int64(4), object(6)\n",
      "memory usage: 21.9+ KB\n"
     ]
    }
   ],
   "source": [
    "mpg.info()\n"
   ]
  },
  {
   "cell_type": "code",
   "execution_count": null,
   "id": "ef142b1e-02aa-4e85-a4c7-fb6afaf1a8bb",
   "metadata": {},
   "outputs": [
    {
     "data": {
      "text/plain": [
       "<Axes: xlabel='displ', ylabel='cty'>"
      ]
     },
     "execution_count": 47,
     "metadata": {},
     "output_type": "execute_result"
    },
    {
     "data": {
      "image/png": "[encoded data removed]",
      "text/plain": [
       "<Figure size 640x480 with 1 Axes>"
      ]
     },
     "metadata": {},
     "output_type": "display_data"
    }
   ],
   "source": [
    "import matplotlib.pyplot as plt\n",
    "import seaborn as sns\n",
    "sns.scatterplot(x= mpg.displ , y= mpg.cty , hue=mpg.drv)"
   ]
  },
  {
   "cell_type": "markdown",
   "id": "d94a6fc4",
   "metadata": {},
   "source": [
    "조건"
   ]
  },
  {
   "cell_type": "code",
   "execution_count": null,
   "id": "421f37c4",
   "metadata": {},
   "outputs": [
    {
     "name": "stdout",
     "output_type": "stream",
     "text": [
      "파이썬 개발환경\n"
     ]
    }
   ],
   "source": [
    "s = 'Vs code'\n",
    "if s == 'Vs code':\n",
    "    print('파이썬 개발환경')\n",
    "else: \n",
    "    print('다른 개발환경')"
   ]
  },
  {
   "cell_type": "code",
   "execution_count": null,
   "id": "e9571cb7",
   "metadata": {},
   "outputs": [
    {
     "name": "stdout",
     "output_type": "stream",
     "text": [
      "짝수\n"
     ]
    }
   ],
   "source": [
    "n = 20\n",
    "if n%2 ==0:\n",
    "    print('짝수')"
   ]
  },
  {
   "cell_type": "code",
   "execution_count": null,
   "id": "2636e2cc",
   "metadata": {},
   "outputs": [],
   "source": [
    "n = 21\n",
    "if n%2==0:\n",
    "    print('짝수')"
   ]
  },
  {
   "cell_type": "code",
   "execution_count": null,
   "id": "9d88bec2",
   "metadata": {},
   "outputs": [
    {
     "name": "stdout",
     "output_type": "stream",
     "text": [
      "미성년자\n"
     ]
    }
   ],
   "source": [
    "age = 18\n",
    "if age >= 20:\n",
    "    print('성인')\n",
    "else:\n",
    "    print('미성년자')"
   ]
  },
  {
   "cell_type": "code",
   "execution_count": null,
   "id": "c3f510bd",
   "metadata": {},
   "outputs": [
    {
     "name": "stdout",
     "output_type": "stream",
     "text": [
      "성인\n"
     ]
    }
   ],
   "source": [
    "age = 21\n",
    "if age >= 20:\n",
    "    print('성인')\n",
    "else:\n",
    "    print('미성년자')"
   ]
  },
  {
   "cell_type": "code",
   "execution_count": null,
   "id": "2e6eebe9",
   "metadata": {},
   "outputs": [
    {
     "name": "stdout",
     "output_type": "stream",
     "text": [
      "미성년자\n",
      "성인\n"
     ]
    }
   ],
   "source": [
    "age = 19\n",
    "s = '성인' if age >= 20 else '미성년자'\n",
    "print(s)\n",
    "age = 20\n",
    "s = '성인' if age >= 20 else '미성년자'\n",
    "print(s)"
   ]
  },
  {
   "cell_type": "code",
   "execution_count": null,
   "id": "2d96a1e1",
   "metadata": {},
   "outputs": [
    {
     "name": "stdout",
     "output_type": "stream",
     "text": [
      "A\n"
     ]
    }
   ],
   "source": [
    "point = 92\n",
    "if (90 <= point):\n",
    "    print('A')\n",
    "elif (80 <= point):\n",
    "    print('B')\n",
    "elif (70 <= point):\n",
    "    print('C')    \n",
    "elif (60 <= point):\n",
    "    print('D')\n",
    "else:\n",
    "    print('A')"
   ]
  },
  {
   "cell_type": "code",
   "execution_count": null,
   "id": "85b7eb10",
   "metadata": {},
   "outputs": [
    {
     "name": "stdout",
     "output_type": "stream",
     "text": [
      "D\n"
     ]
    }
   ],
   "source": [
    "point = 62\n",
    "if (90 <= point):\n",
    "    print('A')\n",
    "elif (80 <= point):\n",
    "    print('B')\n",
    "elif (70 <= point):\n",
    "    print('C')    \n",
    "elif (60 <= point):\n",
    "    print('D')\n",
    "else:\n",
    "    print('A')"
   ]
  },
  {
   "cell_type": "code",
   "execution_count": 8,
   "id": "4919f794",
   "metadata": {},
   "outputs": [
    {
     "name": "stdout",
     "output_type": "stream",
     "text": [
      "사과\n"
     ]
    }
   ],
   "source": [
    "value = \"apple\"\n",
    "match value:\n",
    "    case 'apple':\n",
    "        result = \"사과\"\n",
    "    case 'banana':\n",
    "        result = \"바나나\"\n",
    "print(result)"
   ]
  },
  {
   "cell_type": "code",
   "execution_count": null,
   "id": "541f8d04",
   "metadata": {},
   "outputs": [
    {
     "name": "stdout",
     "output_type": "stream",
     "text": [
      "바나나\n"
     ]
    }
   ],
   "source": [
    "value = \"banana\"\n",
    "match value:\n",
    "    case 'apple':\n",
    "        result = \"사과\"\n",
    "    case 'banana':\n",
    "        result = \"바나나\"\n",
    "print(result)"
   ]
  },
  {
   "cell_type": "code",
   "execution_count": null,
   "id": "ab034855",
   "metadata": {},
   "outputs": [
    {
     "name": "stdout",
     "output_type": "stream",
     "text": [
      "None\n"
     ]
    }
   ],
   "source": [
    "value = \"mango\"\n",
    "match value:\n",
    "    case 'apple':\n",
    "        result = \"사과\"\n",
    "    case 'banana':\n",
    "        result = \"바나나\"\n",
    "    case _:\n",
    "        result = None\n",
    "print(result)"
   ]
  },
  {
   "cell_type": "markdown",
   "id": "48407833",
   "metadata": {},
   "source": [
    "반복"
   ]
  },
  {
   "cell_type": "code",
   "execution_count": null,
   "id": "8afc739e",
   "metadata": {},
   "outputs": [],
   "source": [
    "for x in range(1,6):\n",
    "    print(x)"
   ]
  },
  {
   "cell_type": "code",
   "execution_count": null,
   "id": "18ce2945",
   "metadata": {},
   "outputs": [
    {
     "name": "stdout",
     "output_type": "stream",
     "text": [
      "10\n",
      "20\n",
      "30\n",
      "40\n"
     ]
    }
   ],
   "source": [
    "num = [10,20,30,40]\n",
    "for i in num:\n",
    "    print(i)"
   ]
  },
  {
   "cell_type": "code",
   "execution_count": null,
   "id": "8a9cc161",
   "metadata": {},
   "outputs": [
    {
     "name": "stdout",
     "output_type": "stream",
     "text": [
      "apple\n",
      "2500\n",
      "banana\n",
      "500\n",
      "mango\n",
      "2000\n"
     ]
    }
   ],
   "source": [
    "fruits = list([\"apple\" , 2500 , \"banana\" , 500 , \"mango\" , 2000])\n",
    "for x in fruits:\n",
    "    print(x)"
   ]
  },
  {
   "cell_type": "code",
   "execution_count": null,
   "id": "80608641",
   "metadata": {},
   "outputs": [
    {
     "name": "stdout",
     "output_type": "stream",
     "text": [
      "55\n"
     ]
    }
   ],
   "source": [
    "i = 1\n",
    "sum = 0\n",
    "while i <= 10:\n",
    "    sum += i \n",
    "    i += 1\n",
    "print(sum)"
   ]
  },
  {
   "cell_type": "markdown",
   "id": "ec7b070a",
   "metadata": {},
   "source": [
    "함수"
   ]
  },
  {
   "cell_type": "code",
   "execution_count": null,
   "id": "b5c9ff11",
   "metadata": {},
   "outputs": [
    {
     "name": "stdout",
     "output_type": "stream",
     "text": [
      "Hello , Python!\n"
     ]
    }
   ],
   "source": [
    "def hello():\n",
    "    print(\"Hello , Python!\")\n",
    "    \n",
    "hello()"
   ]
  },
  {
   "cell_type": "code",
   "execution_count": null,
   "id": "8a0c4f6f",
   "metadata": {},
   "outputs": [
    {
     "data": {
      "text/plain": [
       "<function __main__.hello()>"
      ]
     },
     "execution_count": 49,
     "metadata": {},
     "output_type": "execute_result"
    }
   ],
   "source": [
    "hello"
   ]
  },
  {
   "cell_type": "code",
   "execution_count": null,
   "id": "4446de58",
   "metadata": {},
   "outputs": [
    {
     "data": {
      "text/plain": [
       "function"
      ]
     },
     "execution_count": 55,
     "metadata": {},
     "output_type": "execute_result"
    }
   ],
   "source": [
    "type(hello)"
   ]
  },
  {
   "cell_type": "code",
   "execution_count": null,
   "id": "b9dfcdb6",
   "metadata": {},
   "outputs": [
    {
     "name": "stdout",
     "output_type": "stream",
     "text": [
      "안녕, 영희\n"
     ]
    }
   ],
   "source": [
    "def hi(one):\n",
    "    print('안녕,' , one)\n",
    "hi('영희')"
   ]
  },
  {
   "cell_type": "code",
   "execution_count": null,
   "id": "391291cc",
   "metadata": {},
   "outputs": [],
   "source": [
    "hi  "
   ]
  },
  {
   "cell_type": "code",
   "execution_count": null,
   "id": "b7116caf",
   "metadata": {},
   "outputs": [
    {
     "data": {
      "text/plain": [
       "'<function hi at 0x000001A218B60D60>'"
      ]
     },
     "execution_count": 57,
     "metadata": {},
     "output_type": "execute_result"
    }
   ],
   "source": [
    "str(hi)"
   ]
  },
  {
   "cell_type": "code",
   "execution_count": null,
   "id": "62bf806e",
   "metadata": {},
   "outputs": [
    {
     "name": "stdout",
     "output_type": "stream",
     "text": [
      "안녕, 친구들\n",
      "안녕, 철수\n"
     ]
    }
   ],
   "source": [
    "def hi(one = '친구들'):\n",
    "    print('안녕,' , one)\n",
    "hi()\n",
    "hi('철수')"
   ]
  },
  {
   "cell_type": "code",
   "execution_count": null,
   "id": "928c5389",
   "metadata": {},
   "outputs": [
    {
     "name": "stdout",
     "output_type": "stream",
     "text": [
      "63.61725123519331\n"
     ]
    }
   ],
   "source": [
    "import math as  m\n",
    "def circle_area(r=1):\n",
    "    print(m.pi * r **2)\n",
    "\n",
    "circle_area\n",
    "circle_area(4.5)"
   ]
  },
  {
   "cell_type": "code",
   "execution_count": null,
   "id": "82676f1e",
   "metadata": {},
   "outputs": [
    {
     "name": "stdout",
     "output_type": "stream",
     "text": [
      "162.8601631620949\n",
      "None\n"
     ]
    }
   ],
   "source": [
    "print(circle_area(r = 7.2))"
   ]
  },
  {
   "cell_type": "code",
   "execution_count": null,
   "id": "c178c26e",
   "metadata": {},
   "outputs": [
    {
     "data": {
      "text/plain": [
       "(13, 30)"
      ]
     },
     "execution_count": 63,
     "metadata": {},
     "output_type": "execute_result"
    }
   ],
   "source": [
    "def sum_sub(x,y):\n",
    "    hap = x + y\n",
    "    cha = x * y\n",
    "    return hap , cha\n",
    "sum_sub(10,3)"
   ]
  },
  {
   "cell_type": "code",
   "execution_count": null,
   "id": "62493b9f",
   "metadata": {},
   "outputs": [
    {
     "data": {
      "text/plain": [
       "(13, 30)"
      ]
     },
     "execution_count": 67,
     "metadata": {},
     "output_type": "execute_result"
    }
   ],
   "source": [
    "sum_sub(x = 10 , y = 3)"
   ]
  },
  {
   "cell_type": "code",
   "execution_count": null,
   "id": "5ec98148",
   "metadata": {},
   "outputs": [
    {
     "data": {
      "text/plain": [
       "(13, 30)"
      ]
     },
     "execution_count": 69,
     "metadata": {},
     "output_type": "execute_result"
    }
   ],
   "source": [
    "sum_sub(y=3 , x=10)"
   ]
  },
  {
   "cell_type": "code",
   "execution_count": 10,
   "id": "9bbb10d5",
   "metadata": {},
   "outputs": [],
   "source": [
    "import math as m\n",
    "val = (lambda a , b: m.sqrt(a**2 + b**2))(3,4)"
   ]
  },
  {
   "cell_type": "markdown",
   "id": "b44040dd",
   "metadata": {},
   "source": [
    "# set"
   ]
  },
  {
   "cell_type": "code",
   "execution_count": 55,
   "id": "4336d059",
   "metadata": {},
   "outputs": [],
   "source": [
    "# %% set\n",
    "basket = {'apple' , 'orange' , 'apple' , 'pear'}"
   ]
  },
  {
   "cell_type": "code",
   "execution_count": 56,
   "id": "1a43bfc4",
   "metadata": {},
   "outputs": [
    {
     "data": {
      "text/plain": [
       "3"
      ]
     },
     "execution_count": 56,
     "metadata": {},
     "output_type": "execute_result"
    }
   ],
   "source": [
    "len(basket)"
   ]
  },
  {
   "cell_type": "code",
   "execution_count": 60,
   "id": "9899c752",
   "metadata": {},
   "outputs": [
    {
     "name": "stdout",
     "output_type": "stream",
     "text": [
      "False\n",
      "True\n"
     ]
    }
   ],
   "source": [
    "print('grape' in basket)\n",
    "print('apple'in basket)"
   ]
  },
  {
   "cell_type": "code",
   "execution_count": 64,
   "id": "e8870d91",
   "metadata": {},
   "outputs": [
    {
     "name": "stdout",
     "output_type": "stream",
     "text": [
      "{1, 2, 3, 4, 5, 6, 7}\n",
      "{3, 4}\n",
      "{1, 2}\n",
      "{5, 6, 7}\n",
      "{1, 2, 5, 6, 7}\n"
     ]
    }
   ],
   "source": [
    "A = {1,2,3,4}\n",
    "B = {3,4,5,6,7}\n",
    "print(A.union(B)) # 합집합\n",
    "print(A.intersection(B)) #교집합\n",
    "print(A.difference(B)) # 차집합\n",
    "print(B.difference(A)) # 차집합\n",
    "print(A.symmetric_difference(B)) # 여집합\n"
   ]
  },
  {
   "cell_type": "code",
   "execution_count": 65,
   "id": "d21cfa9e",
   "metadata": {},
   "outputs": [
    {
     "name": "stdout",
     "output_type": "stream",
     "text": [
      "{1, 2, 3, 4, 5, 6, 7}\n",
      "{3, 4}\n",
      "{1, 2}\n",
      "{5, 6, 7}\n",
      "{1, 2, 5, 6, 7}\n"
     ]
    }
   ],
   "source": [
    "A = {1,2,3,4}\n",
    "B = {3,4,5,6,7}\n",
    "print(A | B) #합집합  다 출력\n",
    "print(A & B) #교집합  3, 4 출력\n",
    "print(A - B) #차집합 1,2 \n",
    "print(B - A) #차집합 5,6,7\n",
    "print(A ^ B) #여집합 "
   ]
  },
  {
   "cell_type": "code",
   "execution_count": null,
   "id": "b70485ec",
   "metadata": {},
   "outputs": [],
   "source": []
  },
  {
   "cell_type": "markdown",
   "id": "bfd8cdc4",
   "metadata": {},
   "source": [
    "# 리스트 \n"
   ]
  },
  {
   "cell_type": "code",
   "execution_count": 3,
   "id": "1b0b1fc3",
   "metadata": {},
   "outputs": [
    {
     "name": "stdout",
     "output_type": "stream",
     "text": [
      "[10, 20, 30] <class 'list'>\n"
     ]
    }
   ],
   "source": [
    "# %%  list tuple \n",
    "\n",
    "\n",
    "lst = [10,20,30]\n",
    "print(lst, type(lst))"
   ]
  },
  {
   "cell_type": "code",
   "execution_count": 11,
   "id": "b4da7ddc",
   "metadata": {},
   "outputs": [
    {
     "name": "stdout",
     "output_type": "stream",
     "text": [
      "1 False\n"
     ]
    }
   ],
   "source": [
    "lst = [1 , 3.92 , 3> 4 , 'list']\n",
    "print(lst[0] , lst[2])"
   ]
  },
  {
   "cell_type": "code",
   "execution_count": 6,
   "id": "0a971a1f",
   "metadata": {},
   "outputs": [
    {
     "data": {
      "text/plain": [
       "[3.141592653589793, 30, True, 'list', <function __main__.<lambda>(x)>, 'py']"
      ]
     },
     "execution_count": 6,
     "metadata": {},
     "output_type": "execute_result"
    }
   ],
   "source": [
    "import math as m \n",
    "\n",
    "a = [m.pi , 30 , 10 > 4 , 'list' , lambda x : x**3]\n",
    "a.append('py') # append 리스트에 마지막에 요소 추가 \n",
    "a"
   ]
  },
  {
   "cell_type": "code",
   "execution_count": 14,
   "id": "3b757c2e",
   "metadata": {},
   "outputs": [
    {
     "ename": "ValueError",
     "evalue": "list.remove(x): x not in list",
     "output_type": "error",
     "traceback": [
      "\u001b[1;31m---------------------------------------------------------------------------\u001b[0m",
      "\u001b[1;31mValueError\u001b[0m                                Traceback (most recent call last)",
      "Cell \u001b[1;32mIn[14], line 2\u001b[0m\n\u001b[0;32m      1\u001b[0m a\n\u001b[1;32m----> 2\u001b[0m \u001b[43ma\u001b[49m\u001b[38;5;241;43m.\u001b[39;49m\u001b[43mremove\u001b[49m\u001b[43m(\u001b[49m\u001b[38;5;241;43m30\u001b[39;49m\u001b[43m)\u001b[49m \u001b[38;5;66;03m# 원소에 30 삭제\u001b[39;00m\n\u001b[0;32m      3\u001b[0m a\u001b[38;5;241m.\u001b[39mpop() \u001b[38;5;66;03m# \u001b[39;00m\n\u001b[0;32m      4\u001b[0m a\n",
      "\u001b[1;31mValueError\u001b[0m: list.remove(x): x not in list"
     ]
    }
   ],
   "source": [
    "a\n",
    "a.remove(30) # 원소에 30 삭제\n",
    "a"
   ]
  },
  {
   "cell_type": "code",
   "execution_count": 16,
   "id": "3ff169fa",
   "metadata": {},
   "outputs": [
    {
     "data": {
      "text/plain": [
       "[3.141592653589793, True, 'list']"
      ]
     },
     "execution_count": 16,
     "metadata": {},
     "output_type": "execute_result"
    }
   ],
   "source": [
    "a.pop() # 마지막 원소 삭제 \n",
    "a"
   ]
  },
  {
   "cell_type": "markdown",
   "id": "5f5e55b5",
   "metadata": {},
   "source": [
    "# 리스트 컴프리헨션"
   ]
  },
  {
   "cell_type": "code",
   "execution_count": 17,
   "id": "a4735583",
   "metadata": {},
   "outputs": [
    {
     "data": {
      "text/plain": [
       "[0, 1, 2, 3, 4, 5, 6, 7, 8, 9]"
      ]
     },
     "execution_count": 17,
     "metadata": {},
     "output_type": "execute_result"
    }
   ],
   "source": [
    "my_list = [x for x in range(10)]\n",
    "my_list"
   ]
  },
  {
   "cell_type": "code",
   "execution_count": 18,
   "id": "0904bae9",
   "metadata": {},
   "outputs": [
    {
     "data": {
      "text/plain": [
       "[1, 3, 5, 7, 9]"
      ]
     },
     "execution_count": 18,
     "metadata": {},
     "output_type": "execute_result"
    }
   ],
   "source": [
    "[x for x in range(10) if x%2 ==1]"
   ]
  },
  {
   "cell_type": "code",
   "execution_count": 19,
   "id": "46735c62",
   "metadata": {},
   "outputs": [
    {
     "data": {
      "text/plain": [
       "['odd', 'even', 'odd', 'even', 'odd', 'even', 'odd', 'even', 'odd', 'even']"
      ]
     },
     "execution_count": 19,
     "metadata": {},
     "output_type": "execute_result"
    }
   ],
   "source": [
    "['even' if i%2 ==0 else 'odd' for i in range(1,11)]"
   ]
  },
  {
   "cell_type": "code",
   "execution_count": 20,
   "id": "1789f323",
   "metadata": {},
   "outputs": [
    {
     "data": {
      "text/plain": [
       "[[0, 0, 0, 0, 0], [1, 1, 1, 1, 1], [2, 2, 2, 2, 2]]"
      ]
     },
     "execution_count": 20,
     "metadata": {},
     "output_type": "execute_result"
    }
   ],
   "source": [
    "[[i for j in range(5)] for i in range(3)]\n",
    "\n",
    "#  i = 0,1,2\n",
    "# j = 0,1,2,3,4"
   ]
  },
  {
   "cell_type": "code",
   "execution_count": 21,
   "id": "ba594f3d",
   "metadata": {},
   "outputs": [
    {
     "data": {
      "text/plain": [
       "[[0, 1, 2, 3, 4, 5], [1, 2, 3, 4, 5, 6], [2, 3, 4, 5, 6, 7]]"
      ]
     },
     "execution_count": 21,
     "metadata": {},
     "output_type": "execute_result"
    }
   ],
   "source": [
    "[[j for j in range(i , i+6)] for i in range(3)]\n",
    "\n",
    "# i = 0, 1, 2 \n",
    "# range(0 , 6)"
   ]
  },
  {
   "cell_type": "markdown",
   "id": "754448cc",
   "metadata": {},
   "source": [
    "# dict"
   ]
  },
  {
   "cell_type": "code",
   "execution_count": 23,
   "id": "9dae76ce",
   "metadata": {},
   "outputs": [
    {
     "name": "stdout",
     "output_type": "stream",
     "text": [
      "{'라면': 1200, '음료수': 1500, '과자': 800} <class 'dict'>\n"
     ]
    }
   ],
   "source": [
    "# dict \n",
    "mart = {'라면': 1200 , '음료수': 1500 , '과자':800}\n",
    "print(mart , type(mart))\n"
   ]
  },
  {
   "cell_type": "code",
   "execution_count": 25,
   "id": "31114d87",
   "metadata": {},
   "outputs": [
    {
     "name": "stdout",
     "output_type": "stream",
     "text": [
      "1200\n",
      "1500\n",
      "800\n"
     ]
    }
   ],
   "source": [
    "print(mart['라면'])\n",
    "print(mart['음료수'])\n",
    "print(mart['과자'])"
   ]
  },
  {
   "cell_type": "code",
   "execution_count": 29,
   "id": "dd12df4c",
   "metadata": {},
   "outputs": [
    {
     "data": {
      "text/plain": [
       "{1: '일', 3.14: 2.26, (1, 2): '튜플', 'list': [1, 2, 3]}"
      ]
     },
     "execution_count": 29,
     "metadata": {},
     "output_type": "execute_result"
    }
   ],
   "source": [
    "data = {1: '일' , 3.14:2.26 , (1,2): '튜플' , 'list': [1,2,3]}\n",
    "data"
   ]
  },
  {
   "cell_type": "code",
   "execution_count": 32,
   "id": "9b487445",
   "metadata": {},
   "outputs": [
    {
     "data": {
      "text/plain": [
       "{'apple': 2, 'banana': 5, 'orange': 3}"
      ]
     },
     "execution_count": 32,
     "metadata": {},
     "output_type": "execute_result"
    }
   ],
   "source": [
    "cnt = dict((('apple' , 2) , ('banana' , 5) , ('orange', 3)))\n",
    "cnt"
   ]
  },
  {
   "cell_type": "code",
   "execution_count": 35,
   "id": "32293893",
   "metadata": {},
   "outputs": [
    {
     "data": {
      "text/plain": [
       "{'apple': 4000, 'banana': 300, 'orange': 2000}"
      ]
     },
     "execution_count": 35,
     "metadata": {},
     "output_type": "execute_result"
    }
   ],
   "source": [
    "price = dict(apple=4000 , banana=300 , orange=2000)\n",
    "price"
   ]
  },
  {
   "cell_type": "code",
   "execution_count": 36,
   "id": "c1e74844",
   "metadata": {},
   "outputs": [
    {
     "name": "stdout",
     "output_type": "stream",
     "text": [
      "{'라면': 1200, '음료수': 1500, '과자': 800, '삼각김밥': 1700} <class 'dict'>\n"
     ]
    }
   ],
   "source": [
    "mart = {'라면': 1200 , '음료수': 1500 , '과자':800}\n",
    "mart['삼각김밥'] = 1700 \n",
    "print(mart , type(mart))\n"
   ]
  },
  {
   "cell_type": "code",
   "execution_count": 37,
   "id": "aba45d7f",
   "metadata": {},
   "outputs": [
    {
     "name": "stdout",
     "output_type": "stream",
     "text": [
      "{'라면': 1200, '음료수': 1500, '과자': 700, '삼각김밥': 1700}\n"
     ]
    }
   ],
   "source": [
    "mart['과자'] = 700\n",
    "print(mart)"
   ]
  },
  {
   "cell_type": "code",
   "execution_count": 38,
   "id": "2cb7ec14",
   "metadata": {},
   "outputs": [
    {
     "data": {
      "text/plain": [
       "dict_keys(['라면', '음료수', '과자', '삼각김밥'])"
      ]
     },
     "execution_count": 38,
     "metadata": {},
     "output_type": "execute_result"
    }
   ],
   "source": [
    "mart.keys() # 키값"
   ]
  },
  {
   "cell_type": "code",
   "execution_count": 42,
   "id": "76db85a9",
   "metadata": {},
   "outputs": [
    {
     "data": {
      "text/plain": [
       "dict_values([1200, 1500, 700, 1700])"
      ]
     },
     "execution_count": 42,
     "metadata": {},
     "output_type": "execute_result"
    }
   ],
   "source": [
    "mart.values() # 값\n"
   ]
  },
  {
   "cell_type": "code",
   "execution_count": 43,
   "id": "5bb745bf",
   "metadata": {},
   "outputs": [
    {
     "data": {
      "text/plain": [
       "dict_items([('라면', 1200), ('음료수', 1500), ('과자', 700), ('삼각김밥', 1700)])"
      ]
     },
     "execution_count": 43,
     "metadata": {},
     "output_type": "execute_result"
    }
   ],
   "source": [
    "mart.items()"
   ]
  },
  {
   "cell_type": "markdown",
   "id": "175c6005",
   "metadata": {},
   "source": [
    "# 튜플"
   ]
  },
  {
   "cell_type": "code",
   "execution_count": 49,
   "id": "ee130f6a",
   "metadata": {},
   "outputs": [
    {
     "name": "stdout",
     "output_type": "stream",
     "text": [
      "(1, 2, 3) (10, 20, 30)\n"
     ]
    },
    {
     "data": {
      "text/plain": [
       "tuple"
      ]
     },
     "execution_count": 49,
     "metadata": {},
     "output_type": "execute_result"
    }
   ],
   "source": [
    "tp1 = 1,2,3\n",
    "tp2 = (10,20,30)\n",
    "print(tp1,tp2)\n",
    "type(tp1)"
   ]
  },
  {
   "cell_type": "code",
   "execution_count": 50,
   "id": "76deccc3",
   "metadata": {},
   "outputs": [
    {
     "name": "stdout",
     "output_type": "stream",
     "text": [
      "(10, 20, 30) ('py', 'R')\n"
     ]
    }
   ],
   "source": [
    "tp3 = tuple((10,20,30))\n",
    "tp4 = tuple(['py' , 'R'])\n",
    "print(tp3, tp4)"
   ]
  },
  {
   "cell_type": "code",
   "execution_count": 52,
   "id": "7afdca31",
   "metadata": {},
   "outputs": [
    {
     "name": "stdout",
     "output_type": "stream",
     "text": [
      "(1, 3.92, False, 'tuple') <class 'tuple'>\n",
      "1\n",
      "tuple\n"
     ]
    }
   ],
   "source": [
    "tpl = 1, 3.92 , 3> 4 , 'tuple'\n",
    "print(tpl , type(tpl))\n",
    "print(tp1[0])\n",
    "print(tpl[3])\n"
   ]
  },
  {
   "cell_type": "code",
   "execution_count": 53,
   "id": "9659912d",
   "metadata": {},
   "outputs": [
    {
     "data": {
      "text/plain": [
       "(1, 2, 3, 4, 5, 6)"
      ]
     },
     "execution_count": 53,
     "metadata": {},
     "output_type": "execute_result"
    }
   ],
   "source": [
    "tuple1 = 1,2,3\n",
    "tuple2 = 4,5,6\n",
    "a = tuple1 + tuple2\n",
    "a"
   ]
  }
 ],
 "metadata": {
  "kernelspec": {
   "display_name": "Python 3",
   "language": "python",
   "name": "python3"
  },
  "language_info": {
   "codemirror_mode": {
    "name": "ipython",
    "version": 3
   },
   "file_extension": ".py",
   "mimetype": "text/x-python",
   "name": "python",
   "nbconvert_exporter": "python",
   "pygments_lexer": "ipython3",
   "version": "3.12.2"
  }
 },
 "nbformat": 4,
 "nbformat_minor": 5
}
